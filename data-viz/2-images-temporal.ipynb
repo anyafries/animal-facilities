{
 "cells": [
  {
   "cell_type": "code",
   "execution_count": 1,
   "metadata": {},
   "outputs": [],
   "source": [
    "import matplotlib.pyplot as plt\n",
    "import numpy as np\n",
    "import pandas as pd\n",
    "\n",
    "from datetime import datetime"
   ]
  },
  {
   "cell_type": "markdown",
   "metadata": {},
   "source": [
    "### Load the files we have & extract farms and dates"
   ]
  },
  {
   "cell_type": "code",
   "execution_count": 2,
   "metadata": {},
   "outputs": [],
   "source": [
    "bbox = pd.read_csv(\"../data/all_farms/animal_facilities_bbox.csv\")\n",
    "\n",
    "files = pd.read_csv('../files.csv', header=None)[0].values\n",
    "files = [f[len(\"gs://cs325b-animal-facilities/data/\"):] for f in files if f.endswith(\".tif\")]"
   ]
  },
  {
   "cell_type": "code",
   "execution_count": 3,
   "metadata": {},
   "outputs": [],
   "source": [
    "naip_dairy_all = [f[len(\"all_farms/naip/dairy/\"): ] for f in files if f.startswith(\"all_farms/naip/dairy/\")]\n",
    "naip_poultry_all = [f[len(\"all_farms/naip/poultry/\"): ] for f in files if f.startswith(\"all_farms/naip/poultry/\")]\n",
    "naip_top20 = [f[len(\"top_20/naip/\"): ] for f in files if f.startswith(\"top_20/naip/\")]\n",
    "ps_top20 = [f[len(\"top_20/psscenes/\"): ] for f in files \n",
    "            if f.startswith(\"top_20/psscenes/\") and f.endswith(\"_AnalyticMS_SR_clip_reproject.tif\")]\n",
    "# don't need to get udm data too"
   ]
  },
  {
   "cell_type": "code",
   "execution_count": 4,
   "metadata": {},
   "outputs": [],
   "source": [
    "def parse_naip_filename(filename): \n",
    "    farm_idx = filename.split(\"_\")[0]\n",
    "    mm = int(filename.split(\"_\")[1])\n",
    "    dd = int(filename.split(\"_\")[2])\n",
    "    yy = 2000 + int(filename.split(\"_\")[3][:2])\n",
    "    return farm_idx, datetime(yy, mm, dd)\n",
    "\n",
    "def parse_pss_filename(filename): \n",
    "    farm_idx = filename.split(\"_\")[0]\n",
    "    date = filename.split(\"/\")[1][:8]\n",
    "    yy = int(date[:4])\n",
    "    mm = int(date[4:6])\n",
    "    dd = int(date[6:])\n",
    "    return farm_idx, datetime(yy, mm, dd)\n",
    "\n",
    "def get_idx_date_dict(filenames, data_source=\"naip\"):\n",
    "    idx_date_dict = {}\n",
    "    for f in filenames:\n",
    "        if data_source == \"naip\":\n",
    "            idx, date = parse_naip_filename(f)\n",
    "        elif data_source == \"pss\":\n",
    "            idx, date = parse_pss_filename(f)\n",
    "        if idx not in idx_date_dict:\n",
    "            idx_date_dict[idx] = []\n",
    "        idx_date_dict[idx].append(date)\n",
    "\n",
    "    for idx in idx_date_dict:\n",
    "        idx_date_dict[idx] = sorted(idx_date_dict[idx])\n",
    "    \n",
    "    return idx_date_dict"
   ]
  },
  {
   "cell_type": "code",
   "execution_count": 5,
   "metadata": {},
   "outputs": [],
   "source": [
    "naip_dairy_all_dates = get_idx_date_dict(naip_dairy_all, \"naip\")\n",
    "naip_poultry_all_dates = get_idx_date_dict(naip_poultry_all, \"naip\")\n",
    "naip_top20_dates = get_idx_date_dict(naip_top20, \"naip\")\n",
    "ps_top20_dates = get_idx_date_dict(ps_top20, \"pss\")"
   ]
  },
  {
   "cell_type": "markdown",
   "metadata": {},
   "source": [
    "## NAIP"
   ]
  },
  {
   "cell_type": "markdown",
   "metadata": {},
   "source": [
    "Remember some NAIP locations have multiple images per day, we ignore this here and look at the first image per day.\n",
    "\n",
    "Also btw all NAIP files are in bbox"
   ]
  },
  {
   "cell_type": "code",
   "execution_count": 34,
   "metadata": {},
   "outputs": [],
   "source": [
    "dairies = list(naip_dairy_all_dates.keys())\n",
    "poultry = list(naip_poultry_all_dates.keys())\n",
    "top20 = list(naip_top20_dates.keys())"
   ]
  },
  {
   "cell_type": "code",
   "execution_count": 35,
   "metadata": {},
   "outputs": [
    {
     "data": {
      "text/plain": [
       "[]"
      ]
     },
     "execution_count": 35,
     "metadata": {},
     "output_type": "execute_result"
    }
   ],
   "source": [
    "[f for f in dairies+poultry+top20 if int(f) not in bbox.idx.values]"
   ]
  },
  {
   "cell_type": "markdown",
   "metadata": {},
   "source": [
    "### Basic stats"
   ]
  },
  {
   "cell_type": "code",
   "execution_count": 36,
   "metadata": {},
   "outputs": [
    {
     "name": "stdout",
     "output_type": "stream",
     "text": [
      "Number of Dairies in NAIP:  756\n",
      "Number of Poultry in NAIP:  168\n",
      "Number of Top 20 in NAIP:  40\n"
     ]
    }
   ],
   "source": [
    "print(\"Number of Dairies in NAIP: \", len(dairies))\n",
    "print(\"Number of Poultry in NAIP: \", len(poultry))\n",
    "print(\"Number of Top 20 in NAIP: \", len(top20))"
   ]
  },
  {
   "cell_type": "markdown",
   "metadata": {},
   "source": [
    "Some top 20 are not in the all data NAIP:\n",
    "\n",
    "We may need to handle the overlap/not overlap between top20 naip files and all naip files\n"
   ]
  },
  {
   "cell_type": "code",
   "execution_count": 7,
   "metadata": {},
   "outputs": [
    {
     "data": {
      "text/plain": [
       "['1979',\n",
       " '2286',\n",
       " '2364',\n",
       " '2510',\n",
       " '2513',\n",
       " '2840',\n",
       " '3246',\n",
       " '3958',\n",
       " '4133',\n",
       " '4159',\n",
       " '4165',\n",
       " '4191',\n",
       " '4327',\n",
       " '4525']"
      ]
     },
     "execution_count": 7,
     "metadata": {},
     "output_type": "execute_result"
    }
   ],
   "source": [
    "[x for x in top20 if x not in dairies + poultry]"
   ]
  },
  {
   "cell_type": "markdown",
   "metadata": {},
   "source": [
    "### Average revisit time and number of images"
   ]
  },
  {
   "cell_type": "code",
   "execution_count": 8,
   "metadata": {},
   "outputs": [],
   "source": [
    "farm_info = {\n",
    "    idx : {\n",
    "        \"type\" : \"poultry\" if idx in dairies else \"dairy\",\n",
    "        \"num_images\": len(dates),\n",
    "        \"average_revisit\": np.mean([(dates[i] - dates[i-1]).days for i in range(1, len(dates))]),\n",
    "        \"earliest_date\": dates[0],\n",
    "        \"latest_date\": dates[-1]\n",
    "    }\n",
    "    for idx, dates in (naip_poultry_all_dates | naip_dairy_all_dates).items()\n",
    "}"
   ]
  },
  {
   "cell_type": "code",
   "execution_count": 9,
   "metadata": {},
   "outputs": [
    {
     "data": {
      "text/html": [
       "<div>\n",
       "<style scoped>\n",
       "    .dataframe tbody tr th:only-of-type {\n",
       "        vertical-align: middle;\n",
       "    }\n",
       "\n",
       "    .dataframe tbody tr th {\n",
       "        vertical-align: top;\n",
       "    }\n",
       "\n",
       "    .dataframe thead th {\n",
       "        text-align: right;\n",
       "    }\n",
       "</style>\n",
       "<table border=\"1\" class=\"dataframe\">\n",
       "  <thead>\n",
       "    <tr style=\"text-align: right;\">\n",
       "      <th></th>\n",
       "      <th>type</th>\n",
       "      <th>num_images</th>\n",
       "      <th>average_revisit</th>\n",
       "      <th>earliest_date</th>\n",
       "      <th>latest_date</th>\n",
       "    </tr>\n",
       "  </thead>\n",
       "  <tbody>\n",
       "    <tr>\n",
       "      <th>3768</th>\n",
       "      <td>dairy</td>\n",
       "      <td>3</td>\n",
       "      <td>715.0</td>\n",
       "      <td>2018-07-15</td>\n",
       "      <td>2022-06-14</td>\n",
       "    </tr>\n",
       "    <tr>\n",
       "      <th>3998</th>\n",
       "      <td>dairy</td>\n",
       "      <td>3</td>\n",
       "      <td>726.5</td>\n",
       "      <td>2010-06-26</td>\n",
       "      <td>2014-06-18</td>\n",
       "    </tr>\n",
       "    <tr>\n",
       "      <th>4014</th>\n",
       "      <td>dairy</td>\n",
       "      <td>3</td>\n",
       "      <td>715.0</td>\n",
       "      <td>2018-07-15</td>\n",
       "      <td>2022-06-14</td>\n",
       "    </tr>\n",
       "    <tr>\n",
       "      <th>4016</th>\n",
       "      <td>dairy</td>\n",
       "      <td>3</td>\n",
       "      <td>715.5</td>\n",
       "      <td>2018-07-15</td>\n",
       "      <td>2022-06-15</td>\n",
       "    </tr>\n",
       "    <tr>\n",
       "      <th>4017</th>\n",
       "      <td>dairy</td>\n",
       "      <td>3</td>\n",
       "      <td>713.5</td>\n",
       "      <td>2018-07-25</td>\n",
       "      <td>2022-06-21</td>\n",
       "    </tr>\n",
       "  </tbody>\n",
       "</table>\n",
       "</div>"
      ],
      "text/plain": [
       "       type  num_images  average_revisit earliest_date latest_date\n",
       "3768  dairy           3            715.0    2018-07-15  2022-06-14\n",
       "3998  dairy           3            726.5    2010-06-26  2014-06-18\n",
       "4014  dairy           3            715.0    2018-07-15  2022-06-14\n",
       "4016  dairy           3            715.5    2018-07-15  2022-06-15\n",
       "4017  dairy           3            713.5    2018-07-25  2022-06-21"
      ]
     },
     "execution_count": 9,
     "metadata": {},
     "output_type": "execute_result"
    }
   ],
   "source": [
    "farm_info_df = pd.DataFrame.from_dict(farm_info, orient='index')\n",
    "farm_info_df.head()"
   ]
  },
  {
   "cell_type": "code",
   "execution_count": 31,
   "metadata": {},
   "outputs": [
    {
     "data": {
      "text/html": [
       "<div>\n",
       "<style scoped>\n",
       "    .dataframe tbody tr th:only-of-type {\n",
       "        vertical-align: middle;\n",
       "    }\n",
       "\n",
       "    .dataframe tbody tr th {\n",
       "        vertical-align: top;\n",
       "    }\n",
       "\n",
       "    .dataframe thead tr th {\n",
       "        text-align: left;\n",
       "    }\n",
       "\n",
       "    .dataframe thead tr:last-of-type th {\n",
       "        text-align: right;\n",
       "    }\n",
       "</style>\n",
       "<table border=\"1\" class=\"dataframe\">\n",
       "  <thead>\n",
       "    <tr>\n",
       "      <th></th>\n",
       "      <th colspan=\"5\" halign=\"left\">num_images</th>\n",
       "      <th colspan=\"5\" halign=\"left\">average_revisit</th>\n",
       "    </tr>\n",
       "    <tr>\n",
       "      <th></th>\n",
       "      <th>min</th>\n",
       "      <th>max</th>\n",
       "      <th>mean</th>\n",
       "      <th>median</th>\n",
       "      <th>std</th>\n",
       "      <th>min</th>\n",
       "      <th>max</th>\n",
       "      <th>mean</th>\n",
       "      <th>median</th>\n",
       "      <th>std</th>\n",
       "    </tr>\n",
       "    <tr>\n",
       "      <th>type</th>\n",
       "      <th></th>\n",
       "      <th></th>\n",
       "      <th></th>\n",
       "      <th></th>\n",
       "      <th></th>\n",
       "      <th></th>\n",
       "      <th></th>\n",
       "      <th></th>\n",
       "      <th></th>\n",
       "      <th></th>\n",
       "    </tr>\n",
       "  </thead>\n",
       "  <tbody>\n",
       "    <tr>\n",
       "      <th>dairy</th>\n",
       "      <td>3</td>\n",
       "      <td>3</td>\n",
       "      <td>3.0</td>\n",
       "      <td>3.0</td>\n",
       "      <td>0.0</td>\n",
       "      <td>667.5</td>\n",
       "      <td>1457.5</td>\n",
       "      <td>729.889881</td>\n",
       "      <td>715.0</td>\n",
       "      <td>128.170643</td>\n",
       "    </tr>\n",
       "    <tr>\n",
       "      <th>poultry</th>\n",
       "      <td>3</td>\n",
       "      <td>3</td>\n",
       "      <td>3.0</td>\n",
       "      <td>3.0</td>\n",
       "      <td>0.0</td>\n",
       "      <td>552.5</td>\n",
       "      <td>1467.5</td>\n",
       "      <td>734.924603</td>\n",
       "      <td>711.0</td>\n",
       "      <td>147.499362</td>\n",
       "    </tr>\n",
       "  </tbody>\n",
       "</table>\n",
       "</div>"
      ],
      "text/plain": [
       "        num_images                      average_revisit                      \\\n",
       "               min max mean median  std             min     max        mean   \n",
       "type                                                                          \n",
       "dairy            3   3  3.0    3.0  0.0           667.5  1457.5  729.889881   \n",
       "poultry          3   3  3.0    3.0  0.0           552.5  1467.5  734.924603   \n",
       "\n",
       "                            \n",
       "        median         std  \n",
       "type                        \n",
       "dairy    715.0  128.170643  \n",
       "poultry  711.0  147.499362  "
      ]
     },
     "execution_count": 31,
     "metadata": {},
     "output_type": "execute_result"
    }
   ],
   "source": [
    "farm_info_df[[\"type\", \"num_images\", \"average_revisit\"]].\\\n",
    "    groupby(\"type\").\\\n",
    "    aggregate([\"min\", \"max\", 'mean', 'median', 'std'])"
   ]
  },
  {
   "cell_type": "markdown",
   "metadata": {},
   "source": [
    "We always have 3 NAIP images per farm. The revisit time and dates vary greatly."
   ]
  },
  {
   "cell_type": "code",
   "execution_count": 11,
   "metadata": {},
   "outputs": [
    {
     "data": {
      "image/png": "[encoded data removed]",
      "text/plain": [
       "<Figure size 640x480 with 1 Axes>"
      ]
     },
     "metadata": {},
     "output_type": "display_data"
    }
   ],
   "source": [
    "farm_info_df.groupby(\"type\").average_revisit.\\\n",
    "    hist(bins=20, density=True, alpha=0.7, legend=True)\n",
    "plt.show()"
   ]
  },
  {
   "cell_type": "markdown",
   "metadata": {},
   "source": [
    "=> Clearly there are outliers with revisit time\n",
    "\n",
    "Let's look at the histogram without these outliers:"
   ]
  },
  {
   "cell_type": "code",
   "execution_count": 12,
   "metadata": {},
   "outputs": [
    {
     "data": {
      "image/png": "[encoded data removed]",
      "text/plain": [
       "<Figure size 640x480 with 1 Axes>"
      ]
     },
     "metadata": {},
     "output_type": "display_data"
    }
   ],
   "source": [
    "farm_info_df.\\\n",
    "    where(farm_info_df.average_revisit < 800).\\\n",
    "    where(farm_info_df.average_revisit > 600).\\\n",
    "    groupby(\"type\").\\\n",
    "    average_revisit.hist(bins=20, density=True, alpha=0.7, legend=True)\n",
    "plt.show()"
   ]
  },
  {
   "cell_type": "markdown",
   "metadata": {},
   "source": [
    "And what how many farms do we lose if we drop them?"
   ]
  },
  {
   "cell_type": "code",
   "execution_count": 13,
   "metadata": {},
   "outputs": [
    {
     "name": "stdout",
     "output_type": "stream",
     "text": [
      "Total farms (poultry, dairies): 924 (168, 756)\n",
      "Farms (poultry, dairies) with average revisit time > 800 days: 38 (33, 5)\n",
      "Farms (poultry, dairies) with average revisit time < 600 days: 3 (3, 0)\n"
     ]
    }
   ],
   "source": [
    "print(f\"Total farms (poultry, dairies): {len(farm_info_df)} ({len(poultry)}, {len(dairies)})\")\n",
    "\n",
    "tm =  sum(farm_info_df.average_revisit > 800)\n",
    "tm_poultry = sum(farm_info_df.where(farm_info_df.type == \"poultry\").average_revisit > 800)\n",
    "tm_dairy = sum(farm_info_df.where(farm_info_df.type == \"dairy\").average_revisit > 800)\n",
    "print(f\"Farms (poultry, dairies) with average revisit time > 800 days: {tm} ({tm_poultry}, {tm_dairy})\")\n",
    "\n",
    "tl = sum(farm_info_df.average_revisit < 600)\n",
    "tl_poultry = sum(farm_info_df.where(farm_info_df.type == \"poultry\").average_revisit < 600)\n",
    "tl_dairy = sum(farm_info_df.where(farm_info_df.type == \"dairy\").average_revisit < 600)\n",
    "print(f\"Farms (poultry, dairies) with average revisit time < 600 days: {tl} ({tl_poultry}, {tl_dairy})\")"
   ]
  },
  {
   "cell_type": "markdown",
   "metadata": {},
   "source": [
    "### When are the images from?"
   ]
  },
  {
   "cell_type": "code",
   "execution_count": 14,
   "metadata": {},
   "outputs": [],
   "source": [
    "poultry_dates = [date.year for dates in naip_poultry_all_dates.values() for date in dates]\n",
    "dairy_dates = [date.year for dates in naip_dairy_all_dates.values() for date in dates]"
   ]
  },
  {
   "cell_type": "code",
   "execution_count": 15,
   "metadata": {},
   "outputs": [
    {
     "data": {
      "image/png": "[encoded data removed]",
      "text/plain": [
       "<Figure size 640x480 with 1 Axes>"
      ]
     },
     "metadata": {},
     "output_type": "display_data"
    }
   ],
   "source": [
    "# densities for dates\n",
    "plt.hist(poultry_dates, bins=80, density=True, alpha=0.7, color='blue')\n",
    "plt.hist(dairy_dates, bins=80, density=True, alpha=0.7, color='orange')\n",
    "plt.legend([\"poultry\", \"dairy\"])\n",
    "plt.show()"
   ]
  },
  {
   "cell_type": "code",
   "execution_count": 16,
   "metadata": {},
   "outputs": [
    {
     "name": "stdout",
     "output_type": "stream",
     "text": [
      "(array([2010, 2012, 2014, 2018, 2020, 2022]), array([ 17,  17,  22, 146, 151, 151]))\n",
      "(array([2005, 2009, 2010, 2012, 2014, 2016, 2018, 2019, 2020, 2022]), array([  4,   3,  60,  62,  84,   2, 663,   2, 694, 694]))\n"
     ]
    }
   ],
   "source": [
    "print(np.unique(poultry_dates, return_counts=True))\n",
    "print(np.unique(dairy_dates, return_counts=True))"
   ]
  },
  {
   "cell_type": "markdown",
   "metadata": {},
   "source": [
    "Data is inconsistent over time. We don't have every year!\n",
    "\n",
    "THere are also some years with very few images (e.g., 4 images from 2005 for dairies)."
   ]
  },
  {
   "cell_type": "markdown",
   "metadata": {},
   "source": [
    "## PlanetScope"
   ]
  },
  {
   "cell_type": "markdown",
   "metadata": {},
   "source": [
    "### Basic stats"
   ]
  },
  {
   "cell_type": "code",
   "execution_count": 17,
   "metadata": {},
   "outputs": [
    {
     "name": "stdout",
     "output_type": "stream",
     "text": [
      "Number of farms in PS:  40\n"
     ]
    }
   ],
   "source": [
    "print(\"Number of farms in PS: \", len(ps_top20_dates.keys()))"
   ]
  },
  {
   "cell_type": "code",
   "execution_count": 18,
   "metadata": {},
   "outputs": [
    {
     "data": {
      "text/plain": [
       "[]"
      ]
     },
     "execution_count": 18,
     "metadata": {},
     "output_type": "execute_result"
    }
   ],
   "source": [
    "[x for x in ps_top20_dates.keys() if x not in top20]"
   ]
  },
  {
   "cell_type": "markdown",
   "metadata": {},
   "source": [
    "We have complete overlap with the top 20 farms in NAIP, but this is the only data we have."
   ]
  },
  {
   "cell_type": "markdown",
   "metadata": {},
   "source": [
    "### Average revisit time and number of images"
   ]
  },
  {
   "cell_type": "code",
   "execution_count": 19,
   "metadata": {},
   "outputs": [],
   "source": [
    "farm_info_pss = {\n",
    "    idx : {\n",
    "        \"type\" : \"poultry\" if idx in dairies else \"dairy\",\n",
    "        \"num_images\": len(dates),\n",
    "        \"average_revisit\": np.mean([(dates[i] - dates[i-1]).days for i in range(1, len(dates))]),\n",
    "        \"earliest_date\": dates[0],\n",
    "        \"latest_date\": dates[-1]\n",
    "    }\n",
    "    for idx, dates in ps_top20_dates.items()\n",
    "}"
   ]
  },
  {
   "cell_type": "code",
   "execution_count": 20,
   "metadata": {},
   "outputs": [
    {
     "data": {
      "text/html": [
       "<div>\n",
       "<style scoped>\n",
       "    .dataframe tbody tr th:only-of-type {\n",
       "        vertical-align: middle;\n",
       "    }\n",
       "\n",
       "    .dataframe tbody tr th {\n",
       "        vertical-align: top;\n",
       "    }\n",
       "\n",
       "    .dataframe thead th {\n",
       "        text-align: right;\n",
       "    }\n",
       "</style>\n",
       "<table border=\"1\" class=\"dataframe\">\n",
       "  <thead>\n",
       "    <tr style=\"text-align: right;\">\n",
       "      <th></th>\n",
       "      <th>type</th>\n",
       "      <th>num_images</th>\n",
       "      <th>average_revisit</th>\n",
       "      <th>earliest_date</th>\n",
       "      <th>latest_date</th>\n",
       "    </tr>\n",
       "  </thead>\n",
       "  <tbody>\n",
       "    <tr>\n",
       "      <th>1203</th>\n",
       "      <td>poultry</td>\n",
       "      <td>15</td>\n",
       "      <td>104.714286</td>\n",
       "      <td>2019-04-09</td>\n",
       "      <td>2023-04-14</td>\n",
       "    </tr>\n",
       "    <tr>\n",
       "      <th>1779</th>\n",
       "      <td>poultry</td>\n",
       "      <td>12</td>\n",
       "      <td>100.000000</td>\n",
       "      <td>2019-04-10</td>\n",
       "      <td>2022-04-14</td>\n",
       "    </tr>\n",
       "    <tr>\n",
       "      <th>1979</th>\n",
       "      <td>dairy</td>\n",
       "      <td>8</td>\n",
       "      <td>157.142857</td>\n",
       "      <td>2019-04-10</td>\n",
       "      <td>2022-04-14</td>\n",
       "    </tr>\n",
       "    <tr>\n",
       "      <th>2181</th>\n",
       "      <td>poultry</td>\n",
       "      <td>19</td>\n",
       "      <td>81.444444</td>\n",
       "      <td>2019-04-09</td>\n",
       "      <td>2023-04-14</td>\n",
       "    </tr>\n",
       "    <tr>\n",
       "      <th>2286</th>\n",
       "      <td>dairy</td>\n",
       "      <td>12</td>\n",
       "      <td>99.454545</td>\n",
       "      <td>2019-04-13</td>\n",
       "      <td>2022-04-11</td>\n",
       "    </tr>\n",
       "  </tbody>\n",
       "</table>\n",
       "</div>"
      ],
      "text/plain": [
       "         type  num_images  average_revisit earliest_date latest_date\n",
       "1203  poultry          15       104.714286    2019-04-09  2023-04-14\n",
       "1779  poultry          12       100.000000    2019-04-10  2022-04-14\n",
       "1979    dairy           8       157.142857    2019-04-10  2022-04-14\n",
       "2181  poultry          19        81.444444    2019-04-09  2023-04-14\n",
       "2286    dairy          12        99.454545    2019-04-13  2022-04-11"
      ]
     },
     "execution_count": 20,
     "metadata": {},
     "output_type": "execute_result"
    }
   ],
   "source": [
    "farm_info_pss_df = pd.DataFrame.from_dict(farm_info_pss, orient='index')\n",
    "farm_info_pss_df.head()"
   ]
  },
  {
   "cell_type": "code",
   "execution_count": 30,
   "metadata": {},
   "outputs": [
    {
     "data": {
      "text/html": [
       "<div>\n",
       "<style scoped>\n",
       "    .dataframe tbody tr th:only-of-type {\n",
       "        vertical-align: middle;\n",
       "    }\n",
       "\n",
       "    .dataframe tbody tr th {\n",
       "        vertical-align: top;\n",
       "    }\n",
       "\n",
       "    .dataframe thead tr th {\n",
       "        text-align: left;\n",
       "    }\n",
       "\n",
       "    .dataframe thead tr:last-of-type th {\n",
       "        text-align: right;\n",
       "    }\n",
       "</style>\n",
       "<table border=\"1\" class=\"dataframe\">\n",
       "  <thead>\n",
       "    <tr>\n",
       "      <th></th>\n",
       "      <th colspan=\"5\" halign=\"left\">num_images</th>\n",
       "      <th colspan=\"5\" halign=\"left\">average_revisit</th>\n",
       "    </tr>\n",
       "    <tr>\n",
       "      <th></th>\n",
       "      <th>min</th>\n",
       "      <th>max</th>\n",
       "      <th>mean</th>\n",
       "      <th>median</th>\n",
       "      <th>std</th>\n",
       "      <th>min</th>\n",
       "      <th>max</th>\n",
       "      <th>mean</th>\n",
       "      <th>median</th>\n",
       "      <th>std</th>\n",
       "    </tr>\n",
       "    <tr>\n",
       "      <th>type</th>\n",
       "      <th></th>\n",
       "      <th></th>\n",
       "      <th></th>\n",
       "      <th></th>\n",
       "      <th></th>\n",
       "      <th></th>\n",
       "      <th></th>\n",
       "      <th></th>\n",
       "      <th></th>\n",
       "      <th></th>\n",
       "    </tr>\n",
       "  </thead>\n",
       "  <tbody>\n",
       "    <tr>\n",
       "      <th>dairy</th>\n",
       "      <td>2</td>\n",
       "      <td>19</td>\n",
       "      <td>11.642857</td>\n",
       "      <td>12.5</td>\n",
       "      <td>5.293002</td>\n",
       "      <td>1.0</td>\n",
       "      <td>219.8</td>\n",
       "      <td>106.915875</td>\n",
       "      <td>94.612500</td>\n",
       "      <td>49.076157</td>\n",
       "    </tr>\n",
       "    <tr>\n",
       "      <th>poultry</th>\n",
       "      <td>2</td>\n",
       "      <td>21</td>\n",
       "      <td>11.916667</td>\n",
       "      <td>12.5</td>\n",
       "      <td>5.728054</td>\n",
       "      <td>1.0</td>\n",
       "      <td>146.4</td>\n",
       "      <td>97.464000</td>\n",
       "      <td>102.357143</td>\n",
       "      <td>36.647653</td>\n",
       "    </tr>\n",
       "  </tbody>\n",
       "</table>\n",
       "</div>"
      ],
      "text/plain": [
       "        num_images                                 average_revisit         \\\n",
       "               min max       mean median       std             min    max   \n",
       "type                                                                        \n",
       "dairy            2  19  11.642857   12.5  5.293002             1.0  219.8   \n",
       "poultry          2  21  11.916667   12.5  5.728054             1.0  146.4   \n",
       "\n",
       "                                            \n",
       "               mean      median        std  \n",
       "type                                        \n",
       "dairy    106.915875   94.612500  49.076157  \n",
       "poultry   97.464000  102.357143  36.647653  "
      ]
     },
     "execution_count": 30,
     "metadata": {},
     "output_type": "execute_result"
    }
   ],
   "source": [
    "farm_info_pss_df[[\"type\", \"num_images\", \"average_revisit\"]].\\\n",
    "    groupby(\"type\").\\\n",
    "    aggregate([\"min\", \"max\", 'mean', 'median', 'std'])"
   ]
  },
  {
   "cell_type": "markdown",
   "metadata": {},
   "source": [
    "We have much more variation in the number of images per farm, and the revisit time is shorter.\n",
    "\n",
    "But actually, PS images are once a year, there are just several images in this weekly window."
   ]
  },
  {
   "cell_type": "code",
   "execution_count": 22,
   "metadata": {},
   "outputs": [
    {
     "data": {
      "image/png": "[encoded data removed]",
      "text/plain": [
       "<Figure size 640x480 with 1 Axes>"
      ]
     },
     "metadata": {},
     "output_type": "display_data"
    }
   ],
   "source": [
    "farm_info_pss_df.groupby(\"type\").average_revisit.\\\n",
    "    hist(bins=30, density=True, legend=True, alpha=0.7)\n",
    "plt.show()"
   ]
  },
  {
   "cell_type": "markdown",
   "metadata": {},
   "source": [
    "There are less clear outliers here, but the average revisit time varies a lot."
   ]
  },
  {
   "cell_type": "markdown",
   "metadata": {},
   "source": [
    "### When are the images from?"
   ]
  },
  {
   "cell_type": "code",
   "execution_count": 23,
   "metadata": {},
   "outputs": [],
   "source": [
    "poultry_dates_pss = [date.year for idx, dates in ps_top20_dates.items() \n",
    "                     for date in dates \n",
    "                     if idx in naip_poultry_all_dates.keys()]\n",
    "dairy_dates_pss = [date.year for idx, dates in ps_top20_dates.items()\n",
    "                     for date in dates\n",
    "                     if idx in naip_dairy_all_dates.keys()]"
   ]
  },
  {
   "cell_type": "code",
   "execution_count": 24,
   "metadata": {},
   "outputs": [
    {
     "data": {
      "image/png": "[encoded data removed]",
      "text/plain": [
       "<Figure size 640x480 with 1 Axes>"
      ]
     },
     "metadata": {},
     "output_type": "display_data"
    }
   ],
   "source": [
    "# densities for dates\n",
    "plt.hist(poultry_dates_pss, bins=80, density=True, alpha=0.7, color='blue')\n",
    "plt.hist(dairy_dates_pss, bins=80, density=True, alpha=0.7, color='orange')\n",
    "plt.legend([\"poultry\", \"dairy\"])\n",
    "plt.show()"
   ]
  },
  {
   "cell_type": "code",
   "execution_count": 25,
   "metadata": {},
   "outputs": [
    {
     "name": "stdout",
     "output_type": "stream",
     "text": [
      "(array([2019, 2020, 2021, 2022, 2023]), array([19, 24, 41, 30, 35]))\n",
      "(array([2019, 2020, 2021, 2022, 2023]), array([32, 16, 42, 30, 23]))\n"
     ]
    }
   ],
   "source": [
    "print(np.unique(poultry_dates_pss, return_counts=True))\n",
    "print(np.unique(dairy_dates_pss, return_counts=True))"
   ]
  },
  {
   "cell_type": "markdown",
   "metadata": {},
   "source": [
    "Data is more consistent over yearly time - every year from 2019 to 2023."
   ]
  }
 ],
 "metadata": {
  "kernelspec": {
   "display_name": "venv_animal",
   "language": "python",
   "name": "python3"
  },
  "language_info": {
   "codemirror_mode": {
    "name": "ipython",
    "version": 3
   },
   "file_extension": ".py",
   "mimetype": "text/x-python",
   "name": "python",
   "nbconvert_exporter": "python",
   "pygments_lexer": "ipython3",
   "version": "3.11.4"
  },
  "orig_nbformat": 4
 },
 "nbformat": 4,
 "nbformat_minor": 2
}

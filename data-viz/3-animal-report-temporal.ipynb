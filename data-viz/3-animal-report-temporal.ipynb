{
 "cells": [
  {
   "cell_type": "code",
   "execution_count": 2,
   "metadata": {},
   "outputs": [],
   "source": [
    "import matplotlib.pyplot as plt\n",
    "import numpy as np\n",
    "import pandas as pd\n",
    "\n",
    "from datetime import datetime"
   ]
  },
  {
   "cell_type": "markdown",
   "metadata": {},
   "source": [
    "## Load data"
   ]
  },
  {
   "cell_type": "code",
   "execution_count": 3,
   "metadata": {},
   "outputs": [],
   "source": [
    "animal_report = pd.read_csv(\"../data/top_20/facility_data/animal_report.csv\")\n",
    "bbox = pd.read_csv(\"../data/all_farms/animal_facilities_bbox.csv\")"
   ]
  },
  {
   "cell_type": "code",
   "execution_count": 43,
   "metadata": {},
   "outputs": [],
   "source": [
    "animal_report_id_date = animal_report[['reg_measure_id', \n",
    "       'effective_date', 'expiration_review_date', 'termination_date',\n",
    "       'adoption_date', 'most_recent_amendment_date',\n",
    "       'rescission_date', 'facility_id',\n",
    "       'facility_name', 'cafo_type', 'cafo_population']]"
   ]
  },
  {
   "cell_type": "code",
   "execution_count": 30,
   "metadata": {},
   "outputs": [
    {
     "data": {
      "text/plain": [
       "(4801, 11)"
      ]
     },
     "execution_count": 30,
     "metadata": {},
     "output_type": "execute_result"
    }
   ],
   "source": [
    "animal_report_id_date.shape"
   ]
  },
  {
   "cell_type": "code",
   "execution_count": 31,
   "metadata": {},
   "outputs": [
    {
     "data": {
      "text/plain": [
       "reg_measure_id                4801\n",
       "effective_date                 870\n",
       "expiration_review_date         534\n",
       "termination_date               972\n",
       "adoption_date                  386\n",
       "most_recent_amendment_date      29\n",
       "rescission_date                 57\n",
       "facility_id                   3147\n",
       "facility_name                 3041\n",
       "cafo_type                        5\n",
       "cafo_population               1103\n",
       "dtype: int64"
      ]
     },
     "execution_count": 31,
     "metadata": {},
     "output_type": "execute_result"
    }
   ],
   "source": [
    "animal_report_id_date.nunique()"
   ]
  },
  {
   "cell_type": "code",
   "execution_count": 32,
   "metadata": {},
   "outputs": [
    {
     "data": {
      "text/plain": [
       "reg_measure_id                   0\n",
       "effective_date                 569\n",
       "expiration_review_date        1491\n",
       "termination_date              2540\n",
       "adoption_date                 3799\n",
       "most_recent_amendment_date    4723\n",
       "rescission_date               4720\n",
       "facility_id                     47\n",
       "facility_name                   48\n",
       "cafo_type                      734\n",
       "cafo_population                834\n",
       "dtype: int64"
      ]
     },
     "execution_count": 32,
     "metadata": {},
     "output_type": "execute_result"
    }
   ],
   "source": [
    "animal_report_id_date.isna().sum()"
   ]
  },
  {
   "cell_type": "code",
   "execution_count": 5,
   "metadata": {},
   "outputs": [
    {
     "data": {
      "text/html": [
       "<div>\n",
       "<style scoped>\n",
       "    .dataframe tbody tr th:only-of-type {\n",
       "        vertical-align: middle;\n",
       "    }\n",
       "\n",
       "    .dataframe tbody tr th {\n",
       "        vertical-align: top;\n",
       "    }\n",
       "\n",
       "    .dataframe thead th {\n",
       "        text-align: right;\n",
       "    }\n",
       "</style>\n",
       "<table border=\"1\" class=\"dataframe\">\n",
       "  <thead>\n",
       "    <tr style=\"text-align: right;\">\n",
       "      <th></th>\n",
       "      <th>Unnamed: 0</th>\n",
       "      <th>min_lat</th>\n",
       "      <th>max_lat</th>\n",
       "      <th>min_lon</th>\n",
       "      <th>max_lon</th>\n",
       "      <th>idx</th>\n",
       "    </tr>\n",
       "  </thead>\n",
       "  <tbody>\n",
       "    <tr>\n",
       "      <th>0</th>\n",
       "      <td>0</td>\n",
       "      <td>37.653315</td>\n",
       "      <td>37.671309</td>\n",
       "      <td>-120.789975</td>\n",
       "      <td>-120.767389</td>\n",
       "      <td>3768</td>\n",
       "    </tr>\n",
       "    <tr>\n",
       "      <th>1</th>\n",
       "      <td>1</td>\n",
       "      <td>35.646975</td>\n",
       "      <td>35.664969</td>\n",
       "      <td>-119.515025</td>\n",
       "      <td>-119.493020</td>\n",
       "      <td>3958</td>\n",
       "    </tr>\n",
       "    <tr>\n",
       "      <th>2</th>\n",
       "      <td>2</td>\n",
       "      <td>35.621059</td>\n",
       "      <td>35.639053</td>\n",
       "      <td>-119.355694</td>\n",
       "      <td>-119.333697</td>\n",
       "      <td>3998</td>\n",
       "    </tr>\n",
       "    <tr>\n",
       "      <th>3</th>\n",
       "      <td>3</td>\n",
       "      <td>37.451065</td>\n",
       "      <td>37.469059</td>\n",
       "      <td>-120.873234</td>\n",
       "      <td>-120.850710</td>\n",
       "      <td>4014</td>\n",
       "    </tr>\n",
       "    <tr>\n",
       "      <th>4</th>\n",
       "      <td>4</td>\n",
       "      <td>37.660805</td>\n",
       "      <td>37.678799</td>\n",
       "      <td>-120.707626</td>\n",
       "      <td>-120.685038</td>\n",
       "      <td>4016</td>\n",
       "    </tr>\n",
       "  </tbody>\n",
       "</table>\n",
       "</div>"
      ],
      "text/plain": [
       "   Unnamed: 0    min_lat    max_lat     min_lon     max_lon   idx\n",
       "0           0  37.653315  37.671309 -120.789975 -120.767389  3768\n",
       "1           1  35.646975  35.664969 -119.515025 -119.493020  3958\n",
       "2           2  35.621059  35.639053 -119.355694 -119.333697  3998\n",
       "3           3  37.451065  37.469059 -120.873234 -120.850710  4014\n",
       "4           4  37.660805  37.678799 -120.707626 -120.685038  4016"
      ]
     },
     "execution_count": 5,
     "metadata": {},
     "output_type": "execute_result"
    }
   ],
   "source": [
    "bbox.head()"
   ]
  },
  {
   "cell_type": "code",
   "execution_count": 8,
   "metadata": {},
   "outputs": [
    {
     "name": "stdout",
     "output_type": "stream",
     "text": [
      "(1429, 6)\n",
      "(4801, 47)\n"
     ]
    }
   ],
   "source": [
    "print(bbox.shape)\n",
    "print(animal_report.shape)"
   ]
  },
  {
   "cell_type": "code",
   "execution_count": 33,
   "metadata": {},
   "outputs": [
    {
     "data": {
      "text/plain": [
       "1429"
      ]
     },
     "execution_count": 33,
     "metadata": {},
     "output_type": "execute_result"
    }
   ],
   "source": [
    "bbox.idx.nunique()"
   ]
  },
  {
   "cell_type": "markdown",
   "metadata": {},
   "source": [
    "bbox is has unique idx."
   ]
  },
  {
   "cell_type": "markdown",
   "metadata": {},
   "source": [
    "### Linking bbox and animal_report:"
   ]
  },
  {
   "cell_type": "code",
   "execution_count": 44,
   "metadata": {},
   "outputs": [
    {
     "data": {
      "text/plain": [
       "(1429, 10)"
      ]
     },
     "execution_count": 44,
     "metadata": {},
     "output_type": "execute_result"
    }
   ],
   "source": [
    "joined = bbox.merge(animal_report[['latitude_decimal_degrees',\n",
    "                                   'longitude_decimal_degrees',\n",
    "                                   'effective_date',\n",
    "                                   'facility_id']], left_on=\"idx\", right_index=True)\n",
    "joined.shape"
   ]
  },
  {
   "cell_type": "markdown",
   "metadata": {},
   "source": [
    "This checks out:"
   ]
  },
  {
   "cell_type": "code",
   "execution_count": 38,
   "metadata": {},
   "outputs": [
    {
     "data": {
      "text/html": [
       "<div>\n",
       "<style scoped>\n",
       "    .dataframe tbody tr th:only-of-type {\n",
       "        vertical-align: middle;\n",
       "    }\n",
       "\n",
       "    .dataframe tbody tr th {\n",
       "        vertical-align: top;\n",
       "    }\n",
       "\n",
       "    .dataframe thead th {\n",
       "        text-align: right;\n",
       "    }\n",
       "</style>\n",
       "<table border=\"1\" class=\"dataframe\">\n",
       "  <thead>\n",
       "    <tr style=\"text-align: right;\">\n",
       "      <th></th>\n",
       "      <th>Unnamed: 0</th>\n",
       "      <th>min_lat</th>\n",
       "      <th>max_lat</th>\n",
       "      <th>min_lon</th>\n",
       "      <th>max_lon</th>\n",
       "      <th>idx</th>\n",
       "      <th>latitude_decimal_degrees</th>\n",
       "      <th>longitude_decimal_degrees</th>\n",
       "    </tr>\n",
       "  </thead>\n",
       "  <tbody>\n",
       "    <tr>\n",
       "      <th>0</th>\n",
       "      <td>0</td>\n",
       "      <td>37.653315</td>\n",
       "      <td>37.671309</td>\n",
       "      <td>-120.789975</td>\n",
       "      <td>-120.767389</td>\n",
       "      <td>3768</td>\n",
       "      <td>37.662310</td>\n",
       "      <td>-120.778700</td>\n",
       "    </tr>\n",
       "    <tr>\n",
       "      <th>1</th>\n",
       "      <td>1</td>\n",
       "      <td>35.646975</td>\n",
       "      <td>35.664969</td>\n",
       "      <td>-119.515025</td>\n",
       "      <td>-119.493020</td>\n",
       "      <td>3958</td>\n",
       "      <td>35.655970</td>\n",
       "      <td>-119.504040</td>\n",
       "    </tr>\n",
       "    <tr>\n",
       "      <th>2</th>\n",
       "      <td>2</td>\n",
       "      <td>35.621059</td>\n",
       "      <td>35.639053</td>\n",
       "      <td>-119.355694</td>\n",
       "      <td>-119.333697</td>\n",
       "      <td>3998</td>\n",
       "      <td>35.630054</td>\n",
       "      <td>-119.344713</td>\n",
       "    </tr>\n",
       "    <tr>\n",
       "      <th>3</th>\n",
       "      <td>3</td>\n",
       "      <td>37.451065</td>\n",
       "      <td>37.469059</td>\n",
       "      <td>-120.873234</td>\n",
       "      <td>-120.850710</td>\n",
       "      <td>4014</td>\n",
       "      <td>37.460060</td>\n",
       "      <td>-120.861990</td>\n",
       "    </tr>\n",
       "    <tr>\n",
       "      <th>4</th>\n",
       "      <td>4</td>\n",
       "      <td>37.660805</td>\n",
       "      <td>37.678799</td>\n",
       "      <td>-120.707626</td>\n",
       "      <td>-120.685038</td>\n",
       "      <td>4016</td>\n",
       "      <td>37.669800</td>\n",
       "      <td>-120.696350</td>\n",
       "    </tr>\n",
       "  </tbody>\n",
       "</table>\n",
       "</div>"
      ],
      "text/plain": [
       "   Unnamed: 0    min_lat    max_lat     min_lon     max_lon   idx  \\\n",
       "0           0  37.653315  37.671309 -120.789975 -120.767389  3768   \n",
       "1           1  35.646975  35.664969 -119.515025 -119.493020  3958   \n",
       "2           2  35.621059  35.639053 -119.355694 -119.333697  3998   \n",
       "3           3  37.451065  37.469059 -120.873234 -120.850710  4014   \n",
       "4           4  37.660805  37.678799 -120.707626 -120.685038  4016   \n",
       "\n",
       "   latitude_decimal_degrees  longitude_decimal_degrees  \n",
       "0                 37.662310                -120.778700  \n",
       "1                 35.655970                -119.504040  \n",
       "2                 35.630054                -119.344713  \n",
       "3                 37.460060                -120.861990  \n",
       "4                 37.669800                -120.696350  "
      ]
     },
     "execution_count": 38,
     "metadata": {},
     "output_type": "execute_result"
    }
   ],
   "source": [
    "joined.head()"
   ]
  },
  {
   "cell_type": "markdown",
   "metadata": {},
   "source": [
    "Effective date seems to be the one to use."
   ]
  },
  {
   "cell_type": "code",
   "execution_count": 45,
   "metadata": {},
   "outputs": [
    {
     "data": {
      "text/plain": [
       "Unnamed: 0                   0\n",
       "min_lat                      0\n",
       "max_lat                      0\n",
       "min_lon                      0\n",
       "max_lon                      0\n",
       "idx                          0\n",
       "latitude_decimal_degrees     0\n",
       "longitude_decimal_degrees    0\n",
       "effective_date               0\n",
       "facility_id                  0\n",
       "dtype: int64"
      ]
     },
     "execution_count": 45,
     "metadata": {},
     "output_type": "execute_result"
    }
   ],
   "source": [
    "joined.isna().sum()"
   ]
  },
  {
   "cell_type": "markdown",
   "metadata": {},
   "source": [
    "## Does animal report have a temporal component?"
   ]
  },
  {
   "cell_type": "code",
   "execution_count": 46,
   "metadata": {},
   "outputs": [],
   "source": [
    "facility_ids = joined.facility_id.values"
   ]
  },
  {
   "cell_type": "code",
   "execution_count": 57,
   "metadata": {},
   "outputs": [],
   "source": [
    "animal_report2 = animal_report[['facility_id', 'effective_date', 'cafo_type', 'cafo_population']].\\\n",
    "    where(animal_report.facility_id.isin(facility_ids)).dropna(subset = ['facility_id', 'effective_date'])"
   ]
  },
  {
   "cell_type": "code",
   "execution_count": 58,
   "metadata": {},
   "outputs": [
    {
     "data": {
      "text/plain": [
       "(1878, 4)"
      ]
     },
     "execution_count": 58,
     "metadata": {},
     "output_type": "execute_result"
    }
   ],
   "source": [
    "animal_report2.shape"
   ]
  },
  {
   "cell_type": "code",
   "execution_count": 65,
   "metadata": {},
   "outputs": [
    {
     "data": {
      "text/html": [
       "<div>\n",
       "<style scoped>\n",
       "    .dataframe tbody tr th:only-of-type {\n",
       "        vertical-align: middle;\n",
       "    }\n",
       "\n",
       "    .dataframe tbody tr th {\n",
       "        vertical-align: top;\n",
       "    }\n",
       "\n",
       "    .dataframe thead tr th {\n",
       "        text-align: left;\n",
       "    }\n",
       "\n",
       "    .dataframe thead tr:last-of-type th {\n",
       "        text-align: right;\n",
       "    }\n",
       "</style>\n",
       "<table border=\"1\" class=\"dataframe\">\n",
       "  <thead>\n",
       "    <tr>\n",
       "      <th></th>\n",
       "      <th colspan=\"3\" halign=\"left\">effective_date</th>\n",
       "      <th colspan=\"2\" halign=\"left\">cafo_population</th>\n",
       "    </tr>\n",
       "    <tr>\n",
       "      <th></th>\n",
       "      <th>count</th>\n",
       "      <th>min</th>\n",
       "      <th>max</th>\n",
       "      <th>mean</th>\n",
       "      <th>std</th>\n",
       "    </tr>\n",
       "    <tr>\n",
       "      <th>facility_id</th>\n",
       "      <th></th>\n",
       "      <th></th>\n",
       "      <th></th>\n",
       "      <th></th>\n",
       "      <th></th>\n",
       "    </tr>\n",
       "  </thead>\n",
       "  <tbody>\n",
       "    <tr>\n",
       "      <th>201050.0</th>\n",
       "      <td>2</td>\n",
       "      <td>1990-03-09</td>\n",
       "      <td>1990-03-09</td>\n",
       "      <td>1400.0</td>\n",
       "      <td>0.0</td>\n",
       "    </tr>\n",
       "    <tr>\n",
       "      <th>201891.0</th>\n",
       "      <td>3</td>\n",
       "      <td>1993-05-21</td>\n",
       "      <td>2007-06-29</td>\n",
       "      <td>486.0</td>\n",
       "      <td>0.0</td>\n",
       "    </tr>\n",
       "    <tr>\n",
       "      <th>202572.0</th>\n",
       "      <td>2</td>\n",
       "      <td>1994-08-05</td>\n",
       "      <td>2007-06-29</td>\n",
       "      <td>1090.0</td>\n",
       "      <td>0.0</td>\n",
       "    </tr>\n",
       "    <tr>\n",
       "      <th>203907.0</th>\n",
       "      <td>1</td>\n",
       "      <td>2007-06-29</td>\n",
       "      <td>2007-06-29</td>\n",
       "      <td>1420.0</td>\n",
       "      <td>NaN</td>\n",
       "    </tr>\n",
       "    <tr>\n",
       "      <th>203909.0</th>\n",
       "      <td>1</td>\n",
       "      <td>2007-06-29</td>\n",
       "      <td>2007-06-29</td>\n",
       "      <td>486.0</td>\n",
       "      <td>NaN</td>\n",
       "    </tr>\n",
       "  </tbody>\n",
       "</table>\n",
       "</div>"
      ],
      "text/plain": [
       "            effective_date                         cafo_population     \n",
       "                     count         min         max            mean  std\n",
       "facility_id                                                            \n",
       "201050.0                 2  1990-03-09  1990-03-09          1400.0  0.0\n",
       "201891.0                 3  1993-05-21  2007-06-29           486.0  0.0\n",
       "202572.0                 2  1994-08-05  2007-06-29          1090.0  0.0\n",
       "203907.0                 1  2007-06-29  2007-06-29          1420.0  NaN\n",
       "203909.0                 1  2007-06-29  2007-06-29           486.0  NaN"
      ]
     },
     "execution_count": 65,
     "metadata": {},
     "output_type": "execute_result"
    }
   ],
   "source": [
    "facilities = animal_report2.groupby('facility_id').\\\n",
    "    aggregate({'effective_date': ['count', 'min', 'max'], \n",
    "               'cafo_population': ['mean', 'std']})\n",
    "facilities.head()"
   ]
  },
  {
   "cell_type": "code",
   "execution_count": 66,
   "metadata": {},
   "outputs": [
    {
     "data": {
      "text/plain": [
       "295"
      ]
     },
     "execution_count": 66,
     "metadata": {},
     "output_type": "execute_result"
    }
   ],
   "source": [
    "np.sum(facilities.effective_date['count'] > 1)"
   ]
  },
  {
   "cell_type": "code",
   "execution_count": 67,
   "metadata": {},
   "outputs": [
    {
     "data": {
      "text/plain": [
       "0"
      ]
     },
     "execution_count": 67,
     "metadata": {},
     "output_type": "execute_result"
    }
   ],
   "source": [
    "np.sum(facilities.cafo_population['std'] > 0)"
   ]
  },
  {
   "cell_type": "markdown",
   "metadata": {},
   "source": [
    "We don't have temporal data."
   ]
  }
 ],
 "metadata": {
  "kernelspec": {
   "display_name": "venv_animal",
   "language": "python",
   "name": "python3"
  },
  "language_info": {
   "codemirror_mode": {
    "name": "ipython",
    "version": 3
   },
   "file_extension": ".py",
   "mimetype": "text/x-python",
   "name": "python",
   "nbconvert_exporter": "python",
   "pygments_lexer": "ipython3",
   "version": "3.11.4"
  },
  "orig_nbformat": 4
 },
 "nbformat": 4,
 "nbformat_minor": 2
}
